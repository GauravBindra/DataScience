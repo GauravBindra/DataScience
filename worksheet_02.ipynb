{
 "cells": [
  {
   "cell_type": "markdown",
   "metadata": {},
   "source": [
    "# Worksheet 02\n",
    "\n",
    "Name: Gauravdeep Singh Bindra\n",
    "UID: U23346660\n",
    "\n",
    "### Topics\n",
    "\n",
    "- Effective Programming\n",
    "\n",
    "### Effective Programming\n",
    "\n",
    "a) What is a drawback of the top down approach?"
   ]
  },
  {
   "cell_type": "markdown",
   "metadata": {},
   "source": [
    "Top down approaches can be rigid and it may be difficult to make changes for new features "
   ]
  },
  {
   "cell_type": "markdown",
   "metadata": {},
   "source": [
    "b) What is a drawback of the bottom up approach?"
   ]
  },
  {
   "cell_type": "markdown",
   "metadata": {},
   "source": [
    "It can be challenging to integrate all the individual components and they may have redundancy and require increased testing. "
   ]
  },
  {
   "cell_type": "markdown",
   "metadata": {},
   "source": [
    "c) What are 3 things you can do to have a better debugging experience?"
   ]
  },
  {
   "cell_type": "markdown",
   "metadata": {},
   "source": [
    "1. Write down a lot of print statements \n",
    "2. Test your code by running at every step so that you limit your debugging sample space \n",
    "3. Make a program that just works and make improvements iteratively "
   ]
  },
  {
   "cell_type": "code",
   "execution_count": null,
   "metadata": {},
   "outputs": [],
   "source": []
  },
  {
   "cell_type": "markdown",
   "metadata": {},
   "source": [
    "d) Follow along with the live coding. You can write your code here:"
   ]
  },
  {
   "cell_type": "code",
   "execution_count": 1,
   "metadata": {},
   "outputs": [
    {
     "name": "stdout",
     "output_type": "stream",
     "text": [
      "['Q', '-', '-', '-', '-', '-', '-', '-']\n",
      "['-', '-', '-', '-', 'Q', '-', '-', '-']\n",
      "['-', '-', '-', '-', '-', '-', '-', 'Q']\n",
      "['-', '-', '-', '-', '-', 'Q', '-', '-']\n",
      "['-', '-', 'Q', '-', '-', '-', '-', '-']\n",
      "['-', '-', '-', '-', '-', '-', 'Q', '-']\n",
      "['-', 'Q', '-', '-', '-', '-', '-', '-']\n",
      "['-', '-', '-', 'Q', '-', '-', '-', '-']\n"
     ]
    }
   ],
   "source": [
    "#This code finds the first solution to the 8-Queens problem \n",
    "class Board:\n",
    "\n",
    "    def __init__(self):\n",
    "\n",
    "        self.board = [[\"-\"]*8 for j in range(8)]\n",
    "\n",
    "\n",
    "    def available_row(self, row):\n",
    "        # print(90)\n",
    "        for j in range(8):\n",
    "            if self.board[row][j]==\"Q\":\n",
    "                return False \n",
    "        return True\n",
    "\n",
    "    \n",
    "    def available_col(self,col):\n",
    "        # print(\"col\",col)\n",
    "        for i in range(8):\n",
    "            if self.board[i][col]==\"Q\":\n",
    "                return False\n",
    "        return True\n",
    "\n",
    "    \n",
    "    def available_diag1(self,row,col):\n",
    "        # print(88)\n",
    "        \n",
    "\n",
    "        while row>=0 and col>=0:\n",
    "            row-=1\n",
    "            col-=1\n",
    "            if self.board[row][col]==\"Q\":\n",
    "                return False \n",
    "        \n",
    "        return True\n",
    "\n",
    "    \n",
    "    def available_diag2(self,row,col):\n",
    "        # print(88)\n",
    "        \n",
    "\n",
    "        while row>=0 and col<7:\n",
    "            row-=1\n",
    "            col+=1\n",
    "            if self.board[row][col]==\"Q\":\n",
    "                return False \n",
    "        \n",
    "        return True\n",
    "\n",
    "    \n",
    "    def available_diag3(self,row,col):\n",
    "        # print(88)\n",
    "        \n",
    "\n",
    "        while row<7 and col<7:\n",
    "            row+=1\n",
    "            col+=1\n",
    "            if self.board[row][col]==\"Q\":\n",
    "                return False \n",
    "        \n",
    "        return True\n",
    "    \n",
    "    def available_diag4(self,row,col):\n",
    "        # print(88)\n",
    "        \n",
    "\n",
    "        while row<7 and col>=0:\n",
    "            row+=1\n",
    "            col-=1\n",
    "            if self.board[row][col]==\"Q\":\n",
    "                return False \n",
    "        \n",
    "        return True\n",
    "\n",
    "    \n",
    "    def available(self, row, col):\n",
    "        \n",
    "        if self.available_row(row) == False:\n",
    "            return False\n",
    "        \n",
    "        if self.available_col(col) == False:\n",
    "            return False\n",
    "        \n",
    "        if self.available_diag1(row,col) == False:\n",
    "            return False\n",
    "\n",
    "        if self.available_diag2(row,col) == False:\n",
    "            return False\n",
    "\n",
    "        if self.available_diag3(row,col) == False:\n",
    "            return False\n",
    "\n",
    "        if self.available_diag4(row,col) == False:\n",
    "            return False\n",
    "\n",
    "        \n",
    "        return True\n",
    "\n",
    "    def print_board(self):\n",
    "        for row in range(8):\n",
    "                print(self.board[row])\n",
    "\n",
    "    # def place_queen(self, row, col):\n",
    "    #     self.board[row][col]=\"Q\"\n",
    "\n",
    "    def remove_queen(self,row):\n",
    "        for j in range(8):\n",
    "            if self.board[row][j]==\"Q\":\n",
    "                # print(j)\n",
    "                self.board[row][j]=\"-\"\n",
    "\n",
    "                return j \n",
    "\n",
    "    def solve(self):\n",
    "        # self.print_board()\n",
    "        row = 0 \n",
    "        col =  0\n",
    "        while row<8: \n",
    "            # self.print_board()\n",
    "            if self.available(row,col):\n",
    "                # print(5,row,col)\n",
    "                self.board[row][col]=\"Q\"\n",
    "                row+=1\n",
    "                col = 0\n",
    "            else:\n",
    "                # print(55)\n",
    "                col+=1\n",
    "\n",
    "                while col>=8:\n",
    "                    row-=1\n",
    "                    col = self.remove_queen(row)+1\n",
    "                    # print(row,col)\n",
    "                    # col = 0\n",
    "\n",
    "\n",
    "\n",
    "\n",
    "    \n",
    "\n",
    "        \n",
    "        \n",
    "b = Board()\n",
    "b.solve()\n",
    "b.print_board()"
   ]
  },
  {
   "cell_type": "code",
   "execution_count": null,
   "metadata": {},
   "outputs": [],
   "source": []
  }
 ],
 "metadata": {
  "kernelspec": {
   "display_name": "Python 3 (ipykernel)",
   "language": "python",
   "name": "python3"
  },
  "language_info": {
   "codemirror_mode": {
    "name": "ipython",
    "version": 3
   },
   "file_extension": ".py",
   "mimetype": "text/x-python",
   "name": "python",
   "nbconvert_exporter": "python",
   "pygments_lexer": "ipython3",
   "version": "3.9.10"
  },
  "vscode": {
   "interpreter": {
    "hash": "76ca05dc3ea24b2e3b98cdb7774adfbb40773424bf5109b477fd793f623715af"
   }
  }
 },
 "nbformat": 4,
 "nbformat_minor": 2
}
